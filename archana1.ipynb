{
  "nbformat": 4,
  "nbformat_minor": 0,
  "metadata": {
    "colab": {
      "name": "archana1.ipynb",
      "provenance": []
    },
    "kernelspec": {
      "name": "python3",
      "display_name": "Python 3"
    },
    "language_info": {
      "name": "python"
    }
  },
  "cells": [
    {
      "cell_type": "code",
      "metadata": {
        "colab": {
          "base_uri": "https://localhost:8080/"
        },
        "id": "BWSa5vFHGztb",
        "outputId": "27d63cfa-a91c-4b85-f016-4550e453263c"
      },
      "source": [
        "#@title Factorial PROGRAM\n",
        "n=int(input(\"Enter the number:\"))\n",
        "fact=1\n",
        "for i in range(1,n):\n",
        "  i=i+1\n",
        "  fact=fact*i\n",
        "print(\"factorial of\",n,\":\",fact)"
      ],
      "execution_count": 7,
      "outputs": [
        {
          "output_type": "stream",
          "name": "stdout",
          "text": [
            "Enter the number:5\n",
            "factorial of 5 : 120\n"
          ]
        }
      ]
    }
  ]
}